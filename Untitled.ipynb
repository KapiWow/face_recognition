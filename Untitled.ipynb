{
 "cells": [
  {
   "cell_type": "code",
   "execution_count": 1,
   "metadata": {},
   "outputs": [
    {
     "name": "stdout",
     "output_type": "stream",
     "text": [
      "Populating the interactive namespace from numpy and matplotlib\n"
     ]
    }
   ],
   "source": [
    "# imports\n",
    "%pylab inline\n",
    "import numpy as np\n",
    "import matplotlib.pyplot as plt\n",
    "import matplotlib.image as mpimg\n",
    "import time\n",
    "import random\n",
    "from numpy import linalg as LA\n",
    "from scipy.fftpack import dct\n",
    "import matplotlib.pyplot as plt\n",
    "from skimage.transform import rescale, resize, downscale_local_mean\n"
   ]
  },
  {
   "cell_type": "code",
   "execution_count": 2,
   "metadata": {},
   "outputs": [],
   "source": [
    "from pylab import rcParams\n",
    "rcParams['figure.figsize'] = 6, 4\n",
    "rcParams['figure.dpi'] = 200"
   ]
  },
  {
   "cell_type": "code",
   "execution_count": 3,
   "metadata": {},
   "outputs": [],
   "source": [
    "def dist(img1, img2):\n",
    "    res = numpy.linalg.norm(img1 - img2, ord = 1)\n",
    "    return res\n",
    "\n",
    "def dist_complex(img1, img2):\n",
    "    res = 0\n",
    "    for i in range(len(img1)):\n",
    "        res += abs(img1[i] - img2[i])\n",
    "    return res;\n",
    "\n",
    "def scale(img, mult):\n",
    "    res = rescale(img, 1 / mult, anti_aliasing=False).flatten() * 200\n",
    "        \n",
    "    return res.astype(int)\n",
    "\n",
    "#initialization\n",
    "def load_pic():\n",
    "    class_count = 40\n",
    "    image_count = 10\n",
    "    imgs = []\n",
    "    for i in range(class_count):\n",
    "        imgs.append([])\n",
    "        for j in range(image_count):\n",
    "            address = \"data/s\" + str(i+1) + \"/\" + str(j+1) + \".pgm\"\n",
    "            imgs[i].append(mpimg.imread(address))\n",
    "    return imgs\n",
    "\n",
    "#set test, train\n",
    "\n",
    "def test_train(imgs, count):\n",
    "    train = []\n",
    "    test = []\n",
    "    for i in imgs:\n",
    "        train.append(i[:count])\n",
    "        test.append(i[count:])\n",
    "    return test, train\n",
    "\n",
    "def dct2(img2, size):\n",
    "    img = np.array(img2)\n",
    "    m = dct(dct(img.T, norm='ortho').T, norm='ortho')\n",
    "    res = []\n",
    "    for i in range(size[0]):\n",
    "        for j in range(size[1]):\n",
    "            res.append(m[i][j])\n",
    "    return np.array(res) \n",
    "\n",
    "def hist(img, count):\n",
    "    res = []\n",
    "    for i in range(count):\n",
    "        res.append(0)\n",
    "    for i in img:\n",
    "        for j in i:\n",
    "            res[int((j/255)*count)] += 1\n",
    "    return res;\n",
    "\n",
    "def vote(result, class_count):\n",
    "    voted = []\n",
    "    for i in range (len(result[0])):\n",
    "        value = [0]*class_count\n",
    "        for j in result:\n",
    "            value[j[i]] += 1\n",
    "        max_id = 0\n",
    "        max_value = value[0]\n",
    "        for i in range(len(value)):\n",
    "            if (value[i] > value[max_id]):\n",
    "                max_id = i\n",
    "                max_value = value[i]\n",
    "        voted.append(max_id)\n",
    "    return voted\n",
    "\n",
    "def fr(test, train, count_to_load):\n",
    "    res = 0\n",
    "    res_list = []\n",
    "    for i in range(len(test)):\n",
    "        for j in range(len(test[0])):\n",
    "            i_id = 0\n",
    "            image_m = test[i][j]\n",
    "            i_dist_min = dist(image_m, train[0][0])\n",
    "            for q in range(len(train)):\n",
    "                for p in range(len(train[0])):\n",
    "                    i_dist = dist(image_m, train[q][p])\n",
    "                    if (i_dist < i_dist_min):\n",
    "                        i_dist_min = i_dist\n",
    "                        i_id = q\n",
    "            if (i_id == i):\n",
    "                res += 1\n",
    "            res_list.append(i_id)\n",
    "    accuracy = res/(10-count_to_load)/40\n",
    "    print(accuracy)\n",
    "    return res_list, accuracy\n",
    "            \n",
    "def fr_pic(test, train):\n",
    "    res = 0\n",
    "    res_list = []\n",
    "    for i in range(len(test)):\n",
    "#         res_list.append([])\n",
    "        for j in range(len(test[0])):\n",
    "            i_id = 0\n",
    "            i_num = 0\n",
    "            image_m = test[i][j]\n",
    "            i_dist_min = dist(image_m, train[0][0])\n",
    "            for q in range(len(train)):\n",
    "                for p in range(len(train[0])):\n",
    "                    i_dist = dist(image_m, train[q][p])\n",
    "                    if (i_dist < i_dist_min):\n",
    "                        i_dist_min = i_dist\n",
    "                        i_num = p\n",
    "                        i_id = q\n",
    "            if (i_id == i):\n",
    "                res += 1\n",
    "            res_list.append([i_id, i_num])\n",
    "#     print(res/(10-count_to_load)/40)\n",
    "    return res_list"
   ]
  },
  {
   "cell_type": "code",
   "execution_count": 4,
   "metadata": {},
   "outputs": [],
   "source": [
    "def hist(img, count):\n",
    "    res = []\n",
    "    for i in range(count):\n",
    "        res.append(0)\n",
    "    for i in img:\n",
    "        for j in i:\n",
    "            res[int((j/255)*count)] += 1\n",
    "    return res;"
   ]
  },
  {
   "cell_type": "code",
   "execution_count": 5,
   "metadata": {},
   "outputs": [],
   "source": [
    "imgs = load_pic()\n",
    "count_to_load = 5\n",
    "class_count = 40\n",
    "test, train = test_train(imgs, count_to_load)\n",
    "result = []\n",
    "for i in range(10):\n",
    "    result.append([])\n",
    "    for j in range(6):\n",
    "        result[i].append([])"
   ]
  },
  {
   "cell_type": "code",
   "execution_count": 6,
   "metadata": {},
   "outputs": [
    {
     "name": "stdout",
     "output_type": "stream",
     "text": [
      "[0, 7, 25, 71, 362, 933, 660, 251, 244, 217, 222, 203, 154, 132, 134, 196, 278, 398, 594, 722, 1116, 1533, 1057, 547, 229, 15, 1, 1, 1, 1, 0, 0]\n"
     ]
    }
   ],
   "source": [
    "res = hist(imgs[0][0], 32)\n",
    "\n",
    "print(res)"
   ]
  },
  {
   "cell_type": "code",
   "execution_count": null,
   "metadata": {},
   "outputs": [],
   "source": []
  },
  {
   "cell_type": "code",
   "execution_count": 10,
   "metadata": {},
   "outputs": [],
   "source": [
    "# from barcode import EAN13\n",
    "import barcode\n",
    "from barcode.writer import ImageWriter\n",
    "\n",
    "# print to a file-like object:\n",
    "# rv = BytesIO()\n",
    "# EAN13(str(100000902922), writer=ImageWriter()).write(rv)\n",
    "EAN = barcode.get_barcode_class('ean13')\n",
    "ean = EAN('5901234123457', writer=ImageWriter())\n",
    "fullname = ean.save('ean13_barcode')"
   ]
  },
  {
   "cell_type": "code",
   "execution_count": null,
   "metadata": {},
   "outputs": [],
   "source": []
  },
  {
   "cell_type": "code",
   "execution_count": null,
   "metadata": {},
   "outputs": [],
   "source": []
  },
  {
   "cell_type": "code",
   "execution_count": null,
   "metadata": {},
   "outputs": [],
   "source": []
  }
 ],
 "metadata": {
  "kernelspec": {
   "display_name": "Python 3",
   "language": "python",
   "name": "python3"
  },
  "language_info": {
   "codemirror_mode": {
    "name": "ipython",
    "version": 3
   },
   "file_extension": ".py",
   "mimetype": "text/x-python",
   "name": "python",
   "nbconvert_exporter": "python",
   "pygments_lexer": "ipython3",
   "version": "3.7.4"
  }
 },
 "nbformat": 4,
 "nbformat_minor": 2
}
