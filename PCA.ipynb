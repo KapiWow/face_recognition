{
 "cells": [
  {
   "cell_type": "code",
   "execution_count": 2,
   "metadata": {},
   "outputs": [
    {
     "name": "stdout",
     "output_type": "stream",
     "text": [
      "Populating the interactive namespace from numpy and matplotlib\n"
     ]
    },
    {
     "name": "stderr",
     "output_type": "stream",
     "text": [
      "/home/kapi/anaconda3/lib/python3.8/site-packages/IPython/core/magics/pylab.py:159: UserWarning: pylab import has clobbered these variables: ['random', 'resize']\n",
      "`%matplotlib` prevents importing * from pylab and numpy\n",
      "  warn(\"pylab import has clobbered these variables: %s\"  % clobbered +\n"
     ]
    }
   ],
   "source": [
    "# imports\n",
    "%pylab inline\n",
    "import numpy as np\n",
    "import matplotlib.pyplot as plt\n",
    "import matplotlib.image as mpimg\n",
    "import time\n",
    "import random\n",
    "from numpy import linalg as LA\n",
    "from scipy.fftpack import dct\n",
    "import matplotlib.pyplot as plt\n",
    "from skimage.transform import rescale, resize, downscale_local_mean\n"
   ]
  },
  {
   "cell_type": "code",
   "execution_count": 9,
   "metadata": {},
   "outputs": [],
   "source": [
    "def dist(img1, img2):\n",
    "    res = numpy.linalg.norm(img1 - img2, ord = 1)\n",
    "    return res\n",
    "\n",
    "def dist_complex(img1, img2):\n",
    "    res = 0\n",
    "    for i in range(len(img1)):\n",
    "        res += abs(img1[i] - img2[i])\n",
    "    return res;\n",
    "\n",
    "def scale(img, mult):\n",
    "    res = rescale(img, 1 / mult, anti_aliasing=False).flatten() * 200\n",
    "        \n",
    "    return res.astype(int)\n",
    "\n",
    "#initialization\n",
    "def load_pic():\n",
    "    class_count = 40\n",
    "    image_count = 10\n",
    "    imgs = []\n",
    "    for i in range(class_count):\n",
    "        imgs.append([])\n",
    "        for j in range(image_count):\n",
    "            address = \"data/s\" + str(i+1) + \"/\" + str(j+1) + \".pgm\"\n",
    "            imgs[i].append(mpimg.imread(address))\n",
    "    return imgs\n",
    "\n",
    "#set test, train\n",
    "\n",
    "def test_train(imgs, count):\n",
    "    train = []\n",
    "    test = []\n",
    "    for i in imgs:\n",
    "        train.append(i[:count])\n",
    "        test.append(i[count:])\n",
    "    return test, train\n",
    "\n",
    "def dct2(img2, size):\n",
    "    img = np.array(img2)\n",
    "    m = dct(dct(img.T, norm='ortho').T, norm='ortho')\n",
    "    res = []\n",
    "    for i in range(size[0]):\n",
    "        for j in range(size[1]):\n",
    "            res.append(m[i][j])\n",
    "    return np.array(res) \n",
    "\n",
    "def hist(img, count):\n",
    "    res = []\n",
    "    for i in range(count):\n",
    "        res.append(0)\n",
    "    for i in img:\n",
    "        for j in i:\n",
    "            res[int((j/255)*count)] += 1\n",
    "    return res;\n",
    "\n",
    "def vote(result, class_count):\n",
    "    voted = []\n",
    "    for i in range (len(result[0])):\n",
    "        value = [0]*class_count\n",
    "        for j in result:\n",
    "            value[j[i]] += 1\n",
    "        max_id = 0\n",
    "        max_value = value[0]\n",
    "        for i in range(len(value)):\n",
    "            if (value[i] > value[max_id]):\n",
    "                max_id = i\n",
    "                max_value = value[i]\n",
    "        voted.append(max_id)\n",
    "    return voted\n",
    "\n",
    "def fr(test, train):\n",
    "    res = 0\n",
    "    res_list = []\n",
    "    for i in range(len(test)):\n",
    "        for j in range(len(test[0])):\n",
    "            i_id = 0\n",
    "            image_m = test[i][j]\n",
    "            i_dist_min = dist(image_m, train[0][0])\n",
    "            for q in range(len(train)):\n",
    "                for p in range(len(train[0])):\n",
    "                    i_dist = dist(image_m, train[q][p])\n",
    "                    if (i_dist < i_dist_min):\n",
    "                        i_dist_min = i_dist\n",
    "                        i_id = q\n",
    "            if (i_id == i):\n",
    "                res += 1\n",
    "            res_list.append(i_id)\n",
    "    print(res/(10-count_to_load)/40)\n",
    "    return res_list\n",
    "            \n",
    "def fr_pic(test, train):\n",
    "    res = 0\n",
    "    res_list = []\n",
    "    for i in range(len(test)):\n",
    "#         res_list.append([])\n",
    "        for j in range(len(test[0])):\n",
    "            i_id = 0\n",
    "            i_num = 0\n",
    "            image_m = test[i][j]\n",
    "            i_dist_min = dist(image_m, train[0][0])\n",
    "            for q in range(len(train)):\n",
    "                for p in range(len(train[0])):\n",
    "                    i_dist = dist(image_m, train[q][p])\n",
    "                    if (i_dist < i_dist_min):\n",
    "                        i_dist_min = i_dist\n",
    "                        i_num = p\n",
    "                        i_id = q\n",
    "            if (i_id == i):\n",
    "                res += 1\n",
    "            res_list.append([i_id, i_num])\n",
    "#     print(res/(10-count_to_load)/40)\n",
    "    return res_list"
   ]
  },
  {
   "cell_type": "code",
   "execution_count": 19,
   "metadata": {},
   "outputs": [],
   "source": [
    "def get_imgs_scaled(imgs, mult):\n",
    "    res = []\n",
    "    for i in range(class_count):\n",
    "        res.append([])\n",
    "        for j in range(image_count):\n",
    "            res[i].append(scale(imgs[i][j], mult))\n",
    "    return res"
   ]
  },
  {
   "cell_type": "code",
   "execution_count": 66,
   "metadata": {},
   "outputs": [],
   "source": [
    "def get_pca(imgs):\n",
    "    V = np.cov(imgs.T)\n",
    "    values, vectors = eig(V)\n",
    "    P = vectors.T.dot(m_imgs.T).T\n",
    "    return P\n",
    "\n",
    "def get_pca_imgs(imgs, count):\n",
    "    imgs_prePCA = get_imgs_scaled(imgs, 3)\n",
    "    reshapeY = 37\n",
    "    reshapeX = 31\n",
    "    m_imgs = np.reshape(imgs_prePCA, (total_imgs , len(imgs_prePCA[0][0])))\n",
    "    mid = (m_imgs.sum(axis=0) / total_imgs).astype(int)\n",
    "    m_imgs = m_imgs - mid\n",
    "    pca = get_pca(m_imgs)\n",
    "    main_values = 30\n",
    "    res = []\n",
    "    count = 0\n",
    "    for i in range(class_count):\n",
    "        res.append([])\n",
    "        for j in range(image_count):\n",
    "            res[i].append(pca[count][:30])\n",
    "            count += 1\n",
    "    return res\n",
    "        "
   ]
  },
  {
   "cell_type": "code",
   "execution_count": 88,
   "metadata": {},
   "outputs": [],
   "source": [
    "imgs = load_pic()\n",
    "count_to_load = 5\n",
    "image_count = 10\n",
    "class_count = 40\n",
    "total_imgs = image_count*class_count\n",
    "result = []\n",
    "for i in range(10):\n",
    "    result.append([])\n",
    "    for j in range(5):\n",
    "        result[i].append([])\n",
    "        \n",
    "        \n",
    "imgs_scaled = []\n",
    "mult = 4\n",
    "for i in range(class_count):\n",
    "    imgs_scaled.append([])\n",
    "    for j in range(image_count):\n",
    "        imgs_scaled[i].append(scale(imgs[i][j], mult))\n",
    "    \n",
    "imgs_cos = []\n",
    "size = [5, 5]\n",
    "for i in range(class_count):\n",
    "    imgs_cos.append([])\n",
    "    for j in range(image_count):\n",
    "        imgs_cos[i].append(dct2(imgs[i][j], size))"
   ]
  },
  {
   "cell_type": "code",
   "execution_count": 11,
   "metadata": {},
   "outputs": [
    {
     "name": "stdout",
     "output_type": "stream",
     "text": [
      "0.7472222222222222\n",
      "0.853125\n",
      "0.8821428571428571\n",
      "0.9166666666666666\n",
      "0.945\n",
      "0.98125\n",
      "0.975\n",
      "0.975\n",
      "0.95\n"
     ]
    }
   ],
   "source": [
    "mult = 4\n",
    "test_count = 10\n",
    "for i in range(1,test_count):\n",
    "    count_to_load = i\n",
    "    test, train = test_train(imgs_scaled, count_to_load)\n",
    "    result[i-1][0] = (fr(test, train))"
   ]
  },
  {
   "cell_type": "code",
   "execution_count": 12,
   "metadata": {},
   "outputs": [
    {
     "name": "stdout",
     "output_type": "stream",
     "text": [
      "0.725\n",
      "0.81875\n",
      "0.85\n",
      "0.8875\n",
      "0.9\n",
      "0.96875\n",
      "0.9666666666666666\n",
      "0.975\n",
      "0.975\n"
     ]
    }
   ],
   "source": [
    "for i in range(1,test_count):\n",
    "    count_to_load = i\n",
    "    test, train = test_train(imgs_cos, count_to_load)\n",
    "    result[i-1][1] = (fr(test, train))"
   ]
  },
  {
   "cell_type": "code",
   "execution_count": 70,
   "metadata": {},
   "outputs": [],
   "source": [
    "imgs_pca = get_pca_imgs(imgs, 30)"
   ]
  },
  {
   "cell_type": "code",
   "execution_count": 71,
   "metadata": {},
   "outputs": [
    {
     "name": "stdout",
     "output_type": "stream",
     "text": [
      "0.7083333333333333\n",
      "0.825\n",
      "0.85\n",
      "0.8875\n",
      "0.8949999999999999\n",
      "0.95\n",
      "0.95\n",
      "0.9375\n",
      "0.925\n"
     ]
    }
   ],
   "source": [
    "for i in range(1,test_count):\n",
    "    count_to_load = i\n",
    "    test, train = test_train(imgs_pca, count_to_load)\n",
    "    result[i-1][0] = (fr(test, train))"
   ]
  },
  {
   "cell_type": "code",
   "execution_count": 110,
   "metadata": {},
   "outputs": [
    {
     "name": "stdout",
     "output_type": "stream",
     "text": [
      "112 92\n",
      "(400, 112, 92)\n",
      "(112, 112)\n",
      "(400, 112, 92)\n",
      "(92, 92)\n",
      "(400, 112, 92)\n"
     ]
    }
   ],
   "source": [
    "def get_pca(imgs):\n",
    "    V = np.cov(imgs.T)\n",
    "    values, vectors = eig(V)\n",
    "    P = vectors.T.dot(m_imgs.T).T\n",
    "    return P\n",
    "\n",
    "def get_pca_imgs(imgs, count):\n",
    "    imgs_prePCA = get_imgs_scaled(imgs, 3)\n",
    "    reshapeY = 37\n",
    "    reshapeX = 31\n",
    "    m_imgs = np.reshape(imgs_prePCA, (total_imgs , len(imgs_prePCA[0][0])))\n",
    "    mid = (m_imgs.sum(axis=0) / total_imgs).astype(int)\n",
    "    m_imgs = m_imgs - mid\n",
    "    pca = get_pca(m_imgs)\n",
    "    main_values = 30\n",
    "    res = []\n",
    "    count = 0\n",
    "    for i in range(class_count):\n",
    "        res.append([])\n",
    "        for j in range(image_count):\n",
    "            res[i].append(pca[count][:30])\n",
    "            count += 1\n",
    "    return res\n",
    "        \n",
    "mult = 1\n",
    "reshapeY = len(rescale(imgs[0][0],mult))\n",
    "reshapeX = len(rescale(imgs[0][0],mult)[0])\n",
    "print(reshapeY, reshapeX)\n",
    "# reshapeX = 31\n",
    "imgs_prePCA = get_imgs_scaled(imgs, mult)\n",
    "m_imgs = np.reshape(imgs_prePCA, (total_imgs , len(imgs_prePCA[0][0])))\n",
    "m_imgs = np.array([np.reshape(i, (reshapeY, reshapeX)) for i in m_imgs])\n",
    "print(m_imgs.shape)\n",
    "# pca = get_pca(m_imgs)\n",
    "\n",
    "m_cov = np.sum([np.dot(i, i.T) for i in m_imgs], axis = 0) / (reshapeY*reshapeX) \n",
    "print(m_cov.shape)\n",
    "values, vectors = eig(m_cov)\n",
    "m_imgs1 = np.array([np.dot(vectors.T, i) for i in m_imgs])\n",
    "print(m_imgs1.shape)\n",
    "\n",
    "\n",
    "m_cov2 = np.sum([np.dot(i.T, i) for i in m_imgs1], axis = 0) / (reshapeY*reshapeX) \n",
    "print(m_cov2.shape)\n",
    "values, vectors = eig(m_cov2)\n",
    "m_imgs2 = np.array([np.dot(i, vectors) for i in m_imgs])\n",
    "print(m_imgs2.shape)"
   ]
  },
  {
   "cell_type": "code",
   "execution_count": 111,
   "metadata": {},
   "outputs": [],
   "source": [
    "def submatrix( matrix, startRow, startCol, size):\n",
    "    return x[startRow:startRow+size,startCol:startCol+size]\n"
   ]
  },
  {
   "cell_type": "code",
   "execution_count": 116,
   "metadata": {},
   "outputs": [
    {
     "name": "stdout",
     "output_type": "stream",
     "text": [
      "0.5\n",
      "0.55625\n",
      "0.6107142857142857\n",
      "0.6166666666666667\n",
      "0.62\n",
      "0.71875\n",
      "0.7583333333333333\n",
      "0.8375\n",
      "0.85\n"
     ]
    }
   ],
   "source": [
    "# imgs_2dpca = np.array([i.reshape(reshapeY*reshapeX) for i in])\n",
    "# imgs_2dpca = np.reshape(m_imgs2, (total_imgs, reshapeY*reshapeX))\n",
    "imgs_2dpca = []\n",
    "count = 0\n",
    "for i in range(class_count):\n",
    "    imgs_2dpca.append([])\n",
    "    for j in range(image_count):\n",
    "#         imgs_2dpca[i].append(np.reshape(m_imgs2[count], (reshapeY*reshapeX)))\n",
    "        size_x = 6\n",
    "        size_y = 6\n",
    "        img = np.array([i[:size_x] for i in m_imgs2[count][:size_y]])\n",
    "        imgs_2dpca[i].append(img)\n",
    "#         imgs_2dpca[i].append(np.reshape(m_imgs2[count][:4][:4], (4*4)))\n",
    "        count += 1\n",
    "        \n",
    "for i in range(1,test_count):\n",
    "    count_to_load = i\n",
    "    test, train = test_train(imgs_2dpca, count_to_load)\n",
    "    result[i-1][3] = (fr(test, train))"
   ]
  },
  {
   "cell_type": "code",
   "execution_count": 117,
   "metadata": {},
   "outputs": [
    {
     "name": "stdout",
     "output_type": "stream",
     "text": [
      "112 92\n",
      "(400, 112, 92)\n",
      "(112, 112)\n",
      "(400, 112, 92)\n"
     ]
    }
   ],
   "source": [
    "mult = 1\n",
    "reshapeY = len(rescale(imgs[0][0],mult))\n",
    "reshapeX = len(rescale(imgs[0][0],mult)[0])\n",
    "print(reshapeY, reshapeX)\n",
    "# reshapeX = 31\n",
    "imgs_prePCA = get_imgs_scaled(imgs, mult)\n",
    "m_imgs = np.reshape(imgs_prePCA, (total_imgs , len(imgs_prePCA[0][0])))\n",
    "m_imgs = np.array([np.reshape(i, (reshapeY, reshapeX)) for i in m_imgs])\n",
    "print(m_imgs.shape)\n",
    "# pca = get_pca(m_imgs)\n",
    "\n",
    "m_cov = np.sum([np.dot(i, i.T) for i in m_imgs], axis = 0) / (reshapeY*reshapeX) \n",
    "m_cov2 = np.sum([np.dot(i.T, i) for i in m_imgs], axis = 0) / (reshapeY*reshapeX) \n",
    "print(m_cov.shape)\n",
    "_, vectors = eig(m_cov)\n",
    "_, vectors2 = eig(m_cov2)\n",
    "m_imgs = np.array([np.dot(np.dot(vectors.T, i),  vectors2) for i in m_imgs])\n",
    "print(m_imgs.shape)\n",
    "\n",
    "\n",
    "# m_cov2 = np.sum([np.dot(i.T, i) for i in m_imgs], axis = 0) / (reshapeY*reshapeX) \n",
    "# print(m_cov2.shape)\n",
    "# values, vectors = eig(m_cov2)\n",
    "# m_imgs2 = np.array([np.dot(i, vectors) for i in m_imgs])\n",
    "# print(m_imgs2.shape)"
   ]
  },
  {
   "cell_type": "code",
   "execution_count": 118,
   "metadata": {},
   "outputs": [
    {
     "name": "stdout",
     "output_type": "stream",
     "text": [
      "0.65\n",
      "0.759375\n",
      "0.7642857142857143\n",
      "0.8\n",
      "0.8150000000000001\n",
      "0.9125\n",
      "0.9416666666666667\n",
      "0.9625\n",
      "0.95\n"
     ]
    }
   ],
   "source": [
    "imgs_2dpca = []\n",
    "count = 0\n",
    "for i in range(class_count):\n",
    "    imgs_2dpca.append([])\n",
    "    for j in range(image_count):\n",
    "#         imgs_2dpca[i].append(np.reshape(m_imgs2[count], (reshapeY*reshapeX)))\n",
    "        size_x = 6\n",
    "        size_y = 6\n",
    "        img = np.array([i[:size_x] for i in m_imgs[count][:size_y]])\n",
    "        imgs_2dpca[i].append(img)\n",
    "#         imgs_2dpca[i].append(np.reshape(m_imgs2[count][:4][:4], (4*4)))\n",
    "        count += 1\n",
    "        \n",
    "for i in range(1,test_count):\n",
    "    count_to_load = i\n",
    "    test, train = test_train(imgs_2dpca, count_to_load)\n",
    "    result[i-1][4] = (fr(test, train))"
   ]
  },
  {
   "cell_type": "code",
   "execution_count": 107,
   "metadata": {},
   "outputs": [
    {
     "name": "stdout",
     "output_type": "stream",
     "text": [
      "(112, 92)\n"
     ]
    }
   ],
   "source": [
    "print(rescale(imgs[0][0],1).shape)"
   ]
  },
  {
   "cell_type": "code",
   "execution_count": 78,
   "metadata": {},
   "outputs": [
    {
     "name": "stdout",
     "output_type": "stream",
     "text": [
      "[[ 1  2]\n",
      " [ 2 13]]\n"
     ]
    }
   ],
   "source": [
    "a = np.array([[1, 0], [2, 3]])\n",
    "print(np.dot(a, a.T))"
   ]
  },
  {
   "cell_type": "code",
   "execution_count": 80,
   "metadata": {},
   "outputs": [
    {
     "name": "stdout",
     "output_type": "stream",
     "text": [
      "[3 3]\n"
     ]
    }
   ],
   "source": [
    "a = np.array([[1, 0], [2, 3]])\n",
    "print(np.sum(a, axis = 0))"
   ]
  },
  {
   "cell_type": "code",
   "execution_count": 95,
   "metadata": {},
   "outputs": [
    {
     "name": "stdout",
     "output_type": "stream",
     "text": [
      "[[1 0 5]\n",
      " [2 3 7]]\n",
      "[[1 0 5]\n",
      " [2 3 7]]\n"
     ]
    }
   ],
   "source": [
    "a = np.array([[1, 0, 5], [2, 3, 7], [7, 4, 2]])\n",
    "print(submatrix())\n",
    "print(a[:][:2])"
   ]
  }
 ],
 "metadata": {
  "kernelspec": {
   "display_name": "Python 3",
   "language": "python",
   "name": "python3"
  },
  "language_info": {
   "codemirror_mode": {
    "name": "ipython",
    "version": 3
   },
   "file_extension": ".py",
   "mimetype": "text/x-python",
   "name": "python",
   "nbconvert_exporter": "python",
   "pygments_lexer": "ipython3",
   "version": "3.8.3"
  }
 },
 "nbformat": 4,
 "nbformat_minor": 4
}
