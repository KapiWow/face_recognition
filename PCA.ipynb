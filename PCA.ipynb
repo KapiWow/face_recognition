{
 "cells": [
  {
   "cell_type": "code",
   "execution_count": 2,
   "metadata": {},
   "outputs": [
    {
     "name": "stdout",
     "output_type": "stream",
     "text": [
      "Populating the interactive namespace from numpy and matplotlib\n"
     ]
    }
   ],
   "source": [
    "# imports\n",
    "%pylab inline\n",
    "import numpy as np\n",
    "import matplotlib.pyplot as plt\n",
    "import matplotlib.image as mpimg\n",
    "import time\n",
    "import random\n",
    "from numpy import linalg as LA\n",
    "from scipy.fftpack import dct\n",
    "import matplotlib.pyplot as plt\n",
    "from skimage.transform import rescale, resize, downscale_local_mean\n"
   ]
  },
  {
   "cell_type": "code",
   "execution_count": 3,
   "metadata": {},
   "outputs": [],
   "source": [
    "def dist(img1, img2):\n",
    "    res = numpy.linalg.norm(img1 - img2, ord = 1)\n",
    "    return res\n",
    "\n",
    "def dist_complex(img1, img2):\n",
    "    res = 0\n",
    "    for i in range(len(img1)):\n",
    "        res += abs(img1[i] - img2[i])\n",
    "    return res;\n",
    "\n",
    "def scale(img, mult):\n",
    "    res = rescale(img, 1 / mult, anti_aliasing=False).flatten() * 200\n",
    "        \n",
    "    return res.astype(int)\n",
    "\n",
    "#initialization\n",
    "def load_pic():\n",
    "    class_count = 40\n",
    "    image_count = 10\n",
    "    imgs = []\n",
    "    for i in range(class_count):\n",
    "        imgs.append([])\n",
    "        for j in range(image_count):\n",
    "            address = \"data/s\" + str(i+1) + \"/\" + str(j+1) + \".pgm\"\n",
    "            imgs[i].append(mpimg.imread(address))\n",
    "    return imgs\n",
    "\n",
    "#set test, train\n",
    "\n",
    "def test_train(imgs, count):\n",
    "    train = []\n",
    "    test = []\n",
    "    for i in imgs:\n",
    "        train.append(i[:count])\n",
    "        test.append(i[count:])\n",
    "    return test, train\n",
    "\n",
    "def dct2(img2, size):\n",
    "    img = np.array(img2)\n",
    "    m = dct(dct(img.T, norm='ortho').T, norm='ortho')\n",
    "    res = []\n",
    "    for i in range(size[0]):\n",
    "        for j in range(size[1]):\n",
    "            res.append(m[i][j])\n",
    "    return np.array(res) \n",
    "\n",
    "def hist(img, count):\n",
    "    res = []\n",
    "    for i in range(count):\n",
    "        res.append(0)\n",
    "    for i in img:\n",
    "        for j in i:\n",
    "            res[int((j/255)*count)] += 1\n",
    "    return res;\n",
    "\n",
    "def vote(result, class_count):\n",
    "    voted = []\n",
    "    for i in range (len(result[0])):\n",
    "        value = [0]*class_count\n",
    "        for j in result:\n",
    "            value[j[i]] += 1\n",
    "        max_id = 0\n",
    "        max_value = value[0]\n",
    "        for i in range(len(value)):\n",
    "            if (value[i] > value[max_id]):\n",
    "                max_id = i\n",
    "                max_value = value[i]\n",
    "        voted.append(max_id)\n",
    "    return voted\n",
    "\n",
    "def fr(test, train):\n",
    "    res = 0\n",
    "    res_list = []\n",
    "    for i in range(len(test)):\n",
    "        for j in range(len(test[0])):\n",
    "            i_id = 0\n",
    "            image_m = test[i][j]\n",
    "            i_dist_min = dist(image_m, train[0][0])\n",
    "            for q in range(len(train)):\n",
    "                for p in range(len(train[0])):\n",
    "                    i_dist = dist(image_m, train[q][p])\n",
    "                    if (i_dist < i_dist_min):\n",
    "                        i_dist_min = i_dist\n",
    "                        i_id = q\n",
    "            if (i_id == i):\n",
    "                res += 1\n",
    "            res_list.append(i_id)\n",
    "    print(res/(10-count_to_load)/40)\n",
    "    return res_list\n",
    "            \n",
    "def fr_pic(test, train):\n",
    "    res = 0\n",
    "    res_list = []\n",
    "    for i in range(len(test)):\n",
    "#         res_list.append([])\n",
    "        for j in range(len(test[0])):\n",
    "            i_id = 0\n",
    "            i_num = 0\n",
    "            image_m = test[i][j]\n",
    "            i_dist_min = dist(image_m, train[0][0])\n",
    "            for q in range(len(train)):\n",
    "                for p in range(len(train[0])):\n",
    "                    i_dist = dist(image_m, train[q][p])\n",
    "                    if (i_dist < i_dist_min):\n",
    "                        i_dist_min = i_dist\n",
    "                        i_num = p\n",
    "                        i_id = q\n",
    "            if (i_id == i):\n",
    "                res += 1\n",
    "            res_list.append([i_id, i_num])\n",
    "#     print(res/(10-count_to_load)/40)\n",
    "    return res_list"
   ]
  },
  {
   "cell_type": "code",
   "execution_count": 4,
   "metadata": {},
   "outputs": [],
   "source": [
    "def get_imgs_scaled(imgs, mult):\n",
    "    res = []\n",
    "    for i in range(class_count):\n",
    "        res.append([])\n",
    "        for j in range(image_count):\n",
    "            res[i].append(scale(imgs[i][j], mult))\n",
    "    return res"
   ]
  },
  {
   "cell_type": "code",
   "execution_count": 5,
   "metadata": {},
   "outputs": [],
   "source": [
    "def get_pca(imgs):\n",
    "    V = np.cov(imgs.T)\n",
    "    values, vectors = eig(V)\n",
    "    P = vectors.T.dot(imgs.T).T\n",
    "    return P\n",
    "\n",
    "def get_pca_imgs(imgs, count):\n",
    "    imgs_prePCA = get_imgs_scaled(imgs, 3)\n",
    "    reshapeY = 37\n",
    "    reshapeX = 31\n",
    "    m_imgs = np.reshape(imgs_prePCA, (total_imgs , len(imgs_prePCA[0][0])))\n",
    "    mid = (m_imgs.sum(axis=0) / total_imgs).astype(int)\n",
    "    m_imgs = m_imgs - mid\n",
    "    pca = get_pca(m_imgs)\n",
    "    main_values = 30\n",
    "    res = []\n",
    "    count = 0\n",
    "    for i in range(class_count):\n",
    "        res.append([])\n",
    "        for j in range(image_count):\n",
    "            res[i].append(pca[count][:30])\n",
    "            count += 1\n",
    "    return res\n",
    "        "
   ]
  },
  {
   "cell_type": "code",
   "execution_count": 6,
   "metadata": {},
   "outputs": [],
   "source": [
    "imgs = load_pic()\n",
    "count_to_load = 5\n",
    "image_count = 10\n",
    "class_count = 40\n",
    "total_imgs = image_count*class_count\n",
    "result = []\n",
    "for i in range(10):\n",
    "    result.append([])\n",
    "    for j in range(10):\n",
    "        result[i].append([])\n",
    "        \n",
    "        \n",
    "imgs_scaled = []\n",
    "mult = 4\n",
    "for i in range(class_count):\n",
    "    imgs_scaled.append([])\n",
    "    for j in range(image_count):\n",
    "        imgs_scaled[i].append(scale(imgs[i][j], mult))\n",
    "    \n",
    "imgs_cos = []\n",
    "size = [5, 5]\n",
    "for i in range(class_count):\n",
    "    imgs_cos.append([])\n",
    "    for j in range(image_count):\n",
    "        imgs_cos[i].append(dct2(imgs[i][j], size))"
   ]
  },
  {
   "cell_type": "code",
   "execution_count": 7,
   "metadata": {},
   "outputs": [
    {
     "name": "stdout",
     "output_type": "stream",
     "text": [
      "0.7472222222222222\n",
      "0.853125\n",
      "0.8821428571428571\n",
      "0.9166666666666666\n",
      "0.945\n",
      "0.98125\n",
      "0.975\n",
      "0.975\n",
      "0.95\n"
     ]
    }
   ],
   "source": [
    "mult = 4\n",
    "test_count = 10\n",
    "for i in range(1,test_count):\n",
    "    count_to_load = i\n",
    "    test, train = test_train(imgs_scaled, count_to_load)\n",
    "    result[i-1][0] = (fr(test, train))"
   ]
  },
  {
   "cell_type": "code",
   "execution_count": 8,
   "metadata": {},
   "outputs": [
    {
     "name": "stdout",
     "output_type": "stream",
     "text": [
      "0.725\n",
      "0.81875\n",
      "0.85\n",
      "0.8875\n",
      "0.9\n",
      "0.96875\n",
      "0.9666666666666666\n",
      "0.975\n",
      "0.975\n"
     ]
    }
   ],
   "source": [
    "for i in range(1,test_count):\n",
    "    count_to_load = i\n",
    "    test, train = test_train(imgs_cos, count_to_load)\n",
    "    result[i-1][1] = (fr(test, train))"
   ]
  },
  {
   "cell_type": "code",
   "execution_count": 9,
   "metadata": {},
   "outputs": [],
   "source": [
    "imgs_pca = get_pca_imgs(imgs, 30)"
   ]
  },
  {
   "cell_type": "code",
   "execution_count": 10,
   "metadata": {},
   "outputs": [
    {
     "name": "stdout",
     "output_type": "stream",
     "text": [
      "0.7083333333333333\n",
      "0.825\n",
      "0.85\n",
      "0.8875\n",
      "0.8949999999999999\n",
      "0.95\n",
      "0.95\n",
      "0.9375\n",
      "0.925\n"
     ]
    }
   ],
   "source": [
    "for i in range(1,test_count):\n",
    "    count_to_load = i\n",
    "    test, train = test_train(imgs_pca, count_to_load)\n",
    "    result[i-1][0] = (fr(test, train))"
   ]
  },
  {
   "cell_type": "code",
   "execution_count": 11,
   "metadata": {},
   "outputs": [],
   "source": [
    "\n",
    "def get_pca_imgs(imgs, count):\n",
    "    imgs_prePCA = get_imgs_scaled(imgs, 3)\n",
    "    reshapeY = 37\n",
    "    reshapeX = 31\n",
    "    m_imgs = np.reshape(imgs_prePCA, (total_imgs , len(imgs_prePCA[0][0])))\n",
    "    mid = (m_imgs.sum(axis=0) / total_imgs).astype(int)\n",
    "    m_imgs = m_imgs - mid\n",
    "    pca = get_pca(m_imgs)\n",
    "    main_values = 30\n",
    "    res = []\n",
    "    count = 0\n",
    "    for i in range(class_count):\n",
    "        res.append([])\n",
    "        for j in range(image_count):\n",
    "            res[i].append(pca[count][:30])\n",
    "            count += 1\n",
    "    return res\n"
   ]
  },
  {
   "cell_type": "code",
   "execution_count": 28,
   "metadata": {},
   "outputs": [
    {
     "name": "stdout",
     "output_type": "stream",
     "text": [
      "(40, 10, 10304)\n",
      "400\n",
      "(400, 10304)\n",
      "temp (10304, 30)\n",
      "P (400, 30)\n",
      "(400, 30)\n",
      "(40, 10, 29)\n",
      "0.611111111111111\n",
      "0.675\n",
      "0.7035714285714285\n",
      "0.7375\n",
      "0.74\n",
      "0.83125\n",
      "0.8666666666666666\n",
      "0.8875\n",
      "0.875\n"
     ]
    }
   ],
   "source": [
    "# imgs_prePCA = np.array(imgs)\n",
    "\n",
    "def get_pca2(imgs):\n",
    "    V = np.cov(imgs)\n",
    "    values, vectors = eig(V)\n",
    "#     main_values = 30\n",
    "#     print(imgs.T.shape)\n",
    "#     print((vectors[main_values][:]).shape)\n",
    "    v2 = []\n",
    "    for i in range(30):\n",
    "        v2.append(vectors[i])\n",
    "    v2 = np.array(v2)\n",
    "    temp = imgs.T.dot(v2.T).T\n",
    "    print(\"temp\", temp.T.shape)\n",
    "#     P = temp.T.dot(imgs.T).T\n",
    "    P = temp.dot(imgs.T)\n",
    "    print(\"P\", P.T.shape)\n",
    "    return P.T\n",
    "\n",
    "imgs_prePCA = np.array(get_imgs_scaled(imgs, 1))\n",
    "print(imgs_prePCA.shape)\n",
    "print(total_imgs)\n",
    "m_imgs = np.reshape(imgs_prePCA, (total_imgs , len(imgs_prePCA[0][0])))\n",
    "mid = (m_imgs.sum(axis=0) / total_imgs).astype(int)\n",
    "m_imgs = m_imgs - mid\n",
    "print(m_imgs.shape)\n",
    "# m_imgs = m_imgs.T\n",
    "# print(m_imgs.shape)\n",
    "\n",
    "\n",
    "pca = get_pca2(m_imgs)\n",
    "print(pca.shape)\n",
    "main_values = 30\n",
    "res = []\n",
    "count = 0\n",
    "for i in range(class_count):\n",
    "    res.append([])\n",
    "    for j in range(image_count):\n",
    "        res[i].append(pca[count][:main_values-1])\n",
    "        count += 1\n",
    "        \n",
    "res = np.array(res)\n",
    "print(res.shape)\n",
    "# for i in range(1,test_count):\n",
    "#     count_to_load = i\n",
    "#     test, train = test_train(r, count_to_load)\n",
    "#     result[i-1][0] = (fr(test, train))\n",
    "        \n",
    "# return res\n",
    "\n",
    "for i in range(1,test_count):\n",
    "    count_to_load = i\n",
    "    test, train = test_train(res, count_to_load)\n",
    "    (fr(test, train))"
   ]
  },
  {
   "cell_type": "code",
   "execution_count": 10,
   "metadata": {},
   "outputs": [
    {
     "name": "stdout",
     "output_type": "stream",
     "text": [
      "112 92\n",
      "(400, 112, 92)\n",
      "(112, 112)\n",
      "(400, 112, 92)\n",
      "(92, 92)\n",
      "(400, 112, 92)\n"
     ]
    }
   ],
   "source": [
    "def get_pca(imgs):\n",
    "    V = np.cov(imgs.T)\n",
    "    values, vectors = eig(V)\n",
    "    P = vectors.T.dot(imgs.T).T\n",
    "    return P\n",
    "\n",
    "def get_pca_imgs(imgs, count):\n",
    "    imgs_prePCA = get_imgs_scaled(imgs, 3)\n",
    "    reshapeY = 37\n",
    "    reshapeX = 31\n",
    "    m_imgs = np.reshape(imgs_prePCA, (total_imgs , len(imgs_prePCA[0][0])))\n",
    "    mid = (m_imgs.sum(axis=0) / total_imgs).astype(int)\n",
    "    m_imgs = m_imgs - mid\n",
    "    pca = get_pca(m_imgs)\n",
    "    main_values = 30\n",
    "    res = []\n",
    "    count = 0\n",
    "    for i in range(class_count):\n",
    "        res.append([])\n",
    "        for j in range(image_count):\n",
    "            res[i].append(pca[count][:30])\n",
    "            count += 1\n",
    "    return res\n",
    "        \n",
    "mult = 1\n",
    "reshapeY = len(rescale(imgs[0][0],mult))\n",
    "reshapeX = len(rescale(imgs[0][0],mult)[0])\n",
    "print(reshapeY, reshapeX)\n",
    "# reshapeX = 31\n",
    "imgs_prePCA = get_imgs_scaled(imgs, mult)\n",
    "m_imgs = np.reshape(imgs_prePCA, (total_imgs , len(imgs_prePCA[0][0])))\n",
    "m_imgs = np.array([np.reshape(i, (reshapeY, reshapeX)) for i in m_imgs])\n",
    "print(m_imgs.shape)\n",
    "# pca = get_pca(m_imgs)\n",
    "\n",
    "m_cov = np.sum([np.dot(i, i.T) for i in m_imgs], axis = 0) / (reshapeY*reshapeX) \n",
    "print(m_cov.shape)\n",
    "values, vectors = eig(m_cov)\n",
    "m_imgs1 = np.array([np.dot(vectors.T, i) for i in m_imgs])\n",
    "print(m_imgs1.shape)\n",
    "\n",
    "\n",
    "m_cov2 = np.sum([np.dot(i.T, i) for i in m_imgs1], axis = 0) / (reshapeY*reshapeX) \n",
    "print(m_cov2.shape)\n",
    "values, vectors = eig(m_cov2)\n",
    "m_imgs2 = np.array([np.dot(i, vectors) for i in m_imgs])\n",
    "print(m_imgs2.shape)"
   ]
  },
  {
   "cell_type": "code",
   "execution_count": 11,
   "metadata": {},
   "outputs": [],
   "source": [
    "def submatrix( matrix, startRow, startCol, size):\n",
    "    return x[startRow:startRow+size,startCol:startCol+size]\n"
   ]
  },
  {
   "cell_type": "code",
   "execution_count": 12,
   "metadata": {},
   "outputs": [
    {
     "name": "stdout",
     "output_type": "stream",
     "text": [
      "0.5\n",
      "0.55625\n",
      "0.6107142857142857\n",
      "0.6166666666666667\n",
      "0.62\n",
      "0.71875\n",
      "0.7583333333333333\n",
      "0.8375\n",
      "0.85\n"
     ]
    }
   ],
   "source": [
    "# imgs_2dpca = np.array([i.reshape(reshapeY*reshapeX) for i in])\n",
    "# imgs_2dpca = np.reshape(m_imgs2, (total_imgs, reshapeY*reshapeX))\n",
    "imgs_2dpca = []\n",
    "count = 0\n",
    "for i in range(class_count):\n",
    "    imgs_2dpca.append([])\n",
    "    for j in range(image_count):\n",
    "#         imgs_2dpca[i].append(np.reshape(m_imgs2[count], (reshapeY*reshapeX)))\n",
    "        size_x = 6\n",
    "        size_y = 6\n",
    "        img = np.array([i[:size_x] for i in m_imgs2[count][:size_y]])\n",
    "        imgs_2dpca[i].append(img)\n",
    "#         imgs_2dpca[i].append(np.reshape(m_imgs2[count][:4][:4], (4*4)))\n",
    "        count += 1\n",
    "        \n",
    "for i in range(1,test_count):\n",
    "    count_to_load = i\n",
    "    test, train = test_train(imgs_2dpca, count_to_load)\n",
    "    result[i-1][3] = (fr(test, train))"
   ]
  },
  {
   "cell_type": "code",
   "execution_count": 13,
   "metadata": {},
   "outputs": [
    {
     "name": "stdout",
     "output_type": "stream",
     "text": [
      "112 92\n",
      "(400, 112, 92)\n",
      "(112, 112)\n",
      "(400, 112, 92)\n"
     ]
    }
   ],
   "source": [
    "mult = 1\n",
    "reshapeY = len(rescale(imgs[0][0],mult))\n",
    "reshapeX = len(rescale(imgs[0][0],mult)[0])\n",
    "print(reshapeY, reshapeX)\n",
    "# reshapeX = 31\n",
    "imgs_prePCA = get_imgs_scaled(imgs, mult)\n",
    "m_imgs = np.reshape(imgs_prePCA, (total_imgs , len(imgs_prePCA[0][0])))\n",
    "m_imgs = np.array([np.reshape(i, (reshapeY, reshapeX)) for i in m_imgs])\n",
    "print(m_imgs.shape)\n",
    "# pca = get_pca(m_imgs)\n",
    "\n",
    "m_cov = np.sum([np.dot(i, i.T) for i in m_imgs], axis = 0) / (reshapeY*reshapeX) \n",
    "m_cov2 = np.sum([np.dot(i.T, i) for i in m_imgs], axis = 0) / (reshapeY*reshapeX) \n",
    "print(m_cov.shape)\n",
    "_, vectors = eig(m_cov)\n",
    "_, vectors2 = eig(m_cov2)\n",
    "m_imgs = np.array([np.dot(np.dot(vectors.T, i),  vectors2) for i in m_imgs])\n",
    "print(m_imgs.shape)\n",
    "\n",
    "\n",
    "# m_cov2 = np.sum([np.dot(i.T, i) for i in m_imgs], axis = 0) / (reshapeY*reshapeX) \n",
    "# print(m_cov2.shape)\n",
    "# values, vectors = eig(m_cov2)\n",
    "# m_imgs2 = np.array([np.dot(i, vectors) for i in m_imgs])\n",
    "# print(m_imgs2.shape)"
   ]
  },
  {
   "cell_type": "code",
   "execution_count": 14,
   "metadata": {},
   "outputs": [
    {
     "name": "stdout",
     "output_type": "stream",
     "text": [
      "0.65\n",
      "0.759375\n",
      "0.7642857142857143\n",
      "0.8\n",
      "0.8150000000000001\n",
      "0.9125\n",
      "0.9416666666666667\n",
      "0.9625\n",
      "0.95\n"
     ]
    }
   ],
   "source": [
    "imgs_2dpca = []\n",
    "count = 0\n",
    "for i in range(class_count):\n",
    "    imgs_2dpca.append([])\n",
    "    for j in range(image_count):\n",
    "#         imgs_2dpca[i].append(np.reshape(m_imgs2[count], (reshapeY*reshapeX)))\n",
    "        size_x = 6\n",
    "        size_y = 6\n",
    "        img = np.array([i[:size_x] for i in m_imgs[count][:size_y]])\n",
    "        imgs_2dpca[i].append(img)\n",
    "#         imgs_2dpca[i].append(np.reshape(m_imgs2[count][:4][:4], (4*4)))\n",
    "        count += 1\n",
    "        \n",
    "for i in range(1,test_count):\n",
    "    count_to_load = i\n",
    "    test, train = test_train(imgs_2dpca, count_to_load)\n",
    "    result[i-1][4] = (fr(test, train))"
   ]
  },
  {
   "cell_type": "code",
   "execution_count": 16,
   "metadata": {},
   "outputs": [
    {
     "name": "stdout",
     "output_type": "stream",
     "text": [
      "112 92\n",
      "(40, 10, 10304)\n",
      "(40, 10, 112, 92)\n",
      "(40, 112, 92)\n",
      "(112, 92)\n",
      "(112, 112)\n",
      "(92, 92)\n",
      "(400, 112, 92)\n"
     ]
    }
   ],
   "source": [
    "mult = 1\n",
    "reshapeY = len(rescale(imgs[0][0],mult))\n",
    "reshapeX = len(rescale(imgs[0][0],mult)[0])\n",
    "print(reshapeY, reshapeX)\n",
    "imgs_preLDA = np.array(get_imgs_scaled(imgs, mult))\n",
    "\n",
    "print(imgs_preLDA.shape)\n",
    "\n",
    "imgs_preLDA = np.reshape(imgs_preLDA, (class_count, image_count, reshapeY, reshapeX))\n",
    "print(imgs_preLDA.shape)\n",
    "# m_imgs = np.array([np.reshape(i, (reshapeY, reshapeX)) for i in m_imgs])\n",
    "# LDA_mid_in = np.array([np.sum(i, axis = 0) / (image_count) for i in imgs_preLDA])\n",
    "LDA_mid_in = np.sum(imgs_preLDA, axis = 1) / (image_count)\n",
    "LDA_mid_total = np.sum(LDA_mid_in, axis = 0) / (class_count)\n",
    "print(LDA_mid_in.shape)\n",
    "print(LDA_mid_total.shape)\n",
    "\n",
    "LDA_Wr = np.zeros((reshapeY, reshapeY))\n",
    "LDA_Br = np.zeros((reshapeY, reshapeY))\n",
    "LDA_Wc = np.zeros((reshapeX, reshapeX))\n",
    "LDA_Bc = np.zeros((reshapeX, reshapeX))\n",
    "\n",
    "\n",
    "for k in range(class_count):\n",
    "    temp = LDA_mid_in[k] - LDA_mid_total\n",
    "    LDA_Br += np.dot(temp, temp.T)\n",
    "    LDA_Bc += np.dot(temp.T, temp)\n",
    "    for l in range(image_count):\n",
    "        temp = imgs_preLDA[k][l] - LDA_mid_in[k]\n",
    "        LDA_Wr += np.dot(temp, temp.T)\n",
    "        LDA_Wc += np.dot(temp.T, temp)\n",
    "        \n",
    "        \n",
    "LDA_Sr = np.dot(np.linalg.inv(LDA_Wr), LDA_Br) \n",
    "print(LDA_Sr.shape)\n",
    "LDA_Sc = np.dot(np.linalg.inv(LDA_Wc), LDA_Bc) \n",
    "print(LDA_Sc.shape)\n",
    "\n",
    "\n",
    "_, vectors = eig(LDA_Sr)\n",
    "_, vectors2 = eig(LDA_Sc)\n",
    "\n",
    "imgs_LDA = []\n",
    "# imgs_LDA = np.array((class_count * image_count, reshapeY, reshapeX))\n",
    "count = 0\n",
    "for k in range(class_count):\n",
    "    for l in range(image_count):\n",
    "        imgs_LDA.append(np.dot(np.dot(vectors.T, imgs_preLDA[k][l]),  vectors2))\n",
    "        count += 1\n",
    "# imgs_LDA = np.array([np.dot(np.dot(vectors.T, i),  vectors2) for i in imgs_preLDA])\n",
    "imgs_LDA = np.array(imgs_LDA)\n",
    "print(imgs_LDA.shape)\n",
    "# print(LDA_Wr.shape)\n",
    "        \n",
    "        \n",
    "# LDA_Br = np.zeros((reshapeY, reshapeY))\n",
    "# for k in range(class_count):\n",
    "#     temp = LDA_mid_in[k] - LDA_mid_total\n",
    "#     LDA_Br += np.dot(temp, temp.T)\n",
    "# print(LDA_Br.shape)\n",
    "\n",
    "# LDA_Wc = np.zeros((reshapeX, reshapeX))\n",
    "# LDA_Bc = np.zeros((reshapeX, reshapeX))\n",
    "\n",
    "# for k in range(class_count):\n",
    "#     for l in range(image_count):\n",
    "#         temp = imgs_preLDA[k][l] - LDA_mid_in[k]\n",
    "#         LDA_Wr += np.dot(temp, temp.T)\n",
    "# print(LDA_Wr.shape)\n",
    "        \n",
    "        \n",
    "# LDA_Br = np.zeros((reshapeY, reshapeY))\n",
    "# for k in range(class_count):\n",
    "#     temp = LDA_mid_in[k] - LDA_mid_total\n",
    "#     LDA_Br += np.dot(temp, temp.T)\n",
    "# print(LDA_Br.shape)\n",
    "\n",
    "\n",
    "\n",
    "# m_imgs = np.reshape(imgs_prePCA, (total_imgs , len(imgs_prePCA[0][0])))\n",
    "# m_imgs = np.array([np.reshape(i, (reshapeY, reshapeX)) for i in m_imgs])\n",
    "# print(m_imgs.shape)\n",
    "\n",
    "# m_cov = np.sum([np.dot(i, i.T) for i in m_imgs], axis = 0) / (reshapeY*reshapeX) \n",
    "# m_cov2 = np.sum([np.dot(i.T, i) for i in m_imgs], axis = 0) / (reshapeY*reshapeX) \n",
    "# print(m_cov.shape)\n",
    "# _, vectors = eig(m_cov)\n",
    "# _, vectors2 = eig(m_cov2)\n",
    "# m_imgs = np.array([np.dot(np.dot(vectors.T, i),  vectors2) for i in m_imgs])\n",
    "# print(m_imgs.shape)\n",
    "\n"
   ]
  },
  {
   "cell_type": "code",
   "execution_count": 17,
   "metadata": {},
   "outputs": [
    {
     "name": "stdout",
     "output_type": "stream",
     "text": [
      "0.7472222222222222\n",
      "0.846875\n",
      "0.8642857142857142\n",
      "0.8833333333333334\n",
      "0.885\n",
      "0.94375\n",
      "0.95\n",
      "0.9375\n",
      "0.975\n"
     ]
    }
   ],
   "source": [
    "imgs_2dlda = []\n",
    "count = 0\n",
    "for i in range(class_count):\n",
    "    imgs_2dlda.append([])\n",
    "    for j in range(image_count):\n",
    "#         imgs_2dpca[i].append(np.reshape(m_imgs2[count], (reshapeY*reshapeX)))\n",
    "        size_x = 6\n",
    "        size_y = 6\n",
    "        img = np.array([i[:size_x] for i in imgs_LDA[count][:size_y]])\n",
    "        imgs_2dlda[i].append(img)\n",
    "#         imgs_2dpca[i].append(np.reshape(m_imgs2[count][:4][:4], (4*4)))\n",
    "        count += 1\n",
    "        \n",
    "for i in range(1,test_count):\n",
    "    count_to_load = i\n",
    "    test, train = test_train(imgs_2dlda, count_to_load)\n",
    "    result[i-1][5] = (fr(test, train))"
   ]
  },
  {
   "cell_type": "code",
   "execution_count": null,
   "metadata": {},
   "outputs": [],
   "source": []
  },
  {
   "cell_type": "code",
   "execution_count": null,
   "metadata": {},
   "outputs": [],
   "source": [
    "print(rescale(imgs[0][0],1).shape)"
   ]
  },
  {
   "cell_type": "code",
   "execution_count": 22,
   "metadata": {},
   "outputs": [
    {
     "name": "stdout",
     "output_type": "stream",
     "text": [
      "[[ 1  2]\n",
      " [ 2 13]]\n"
     ]
    }
   ],
   "source": [
    "a = np.array([[1, 0], [2, 3]])\n",
    "print(np.dot(a, a.T))"
   ]
  },
  {
   "cell_type": "code",
   "execution_count": 23,
   "metadata": {},
   "outputs": [
    {
     "name": "stdout",
     "output_type": "stream",
     "text": [
      "[3 3]\n"
     ]
    }
   ],
   "source": [
    "a = np.array([[1, 0], [2, 3]])\n",
    "print(np.sum(a, axis = 0))"
   ]
  },
  {
   "cell_type": "code",
   "execution_count": 24,
   "metadata": {},
   "outputs": [
    {
     "ename": "TypeError",
     "evalue": "submatrix() missing 4 required positional arguments: 'matrix', 'startRow', 'startCol', and 'size'",
     "output_type": "error",
     "traceback": [
      "\u001b[0;31m---------------------------------------------------------------------------\u001b[0m",
      "\u001b[0;31mTypeError\u001b[0m                                 Traceback (most recent call last)",
      "\u001b[0;32m<ipython-input-24-6878c040089f>\u001b[0m in \u001b[0;36m<module>\u001b[0;34m\u001b[0m\n\u001b[1;32m      1\u001b[0m \u001b[0ma\u001b[0m \u001b[0;34m=\u001b[0m \u001b[0mnp\u001b[0m\u001b[0;34m.\u001b[0m\u001b[0marray\u001b[0m\u001b[0;34m(\u001b[0m\u001b[0;34m[\u001b[0m\u001b[0;34m[\u001b[0m\u001b[0;36m1\u001b[0m\u001b[0;34m,\u001b[0m \u001b[0;36m0\u001b[0m\u001b[0;34m,\u001b[0m \u001b[0;36m5\u001b[0m\u001b[0;34m]\u001b[0m\u001b[0;34m,\u001b[0m \u001b[0;34m[\u001b[0m\u001b[0;36m2\u001b[0m\u001b[0;34m,\u001b[0m \u001b[0;36m3\u001b[0m\u001b[0;34m,\u001b[0m \u001b[0;36m7\u001b[0m\u001b[0;34m]\u001b[0m\u001b[0;34m,\u001b[0m \u001b[0;34m[\u001b[0m\u001b[0;36m7\u001b[0m\u001b[0;34m,\u001b[0m \u001b[0;36m4\u001b[0m\u001b[0;34m,\u001b[0m \u001b[0;36m2\u001b[0m\u001b[0;34m]\u001b[0m\u001b[0;34m]\u001b[0m\u001b[0;34m)\u001b[0m\u001b[0;34m\u001b[0m\u001b[0;34m\u001b[0m\u001b[0m\n\u001b[0;32m----> 2\u001b[0;31m \u001b[0mprint\u001b[0m\u001b[0;34m(\u001b[0m\u001b[0msubmatrix\u001b[0m\u001b[0;34m(\u001b[0m\u001b[0;34m)\u001b[0m\u001b[0;34m)\u001b[0m\u001b[0;34m\u001b[0m\u001b[0;34m\u001b[0m\u001b[0m\n\u001b[0m\u001b[1;32m      3\u001b[0m \u001b[0mprint\u001b[0m\u001b[0;34m(\u001b[0m\u001b[0ma\u001b[0m\u001b[0;34m[\u001b[0m\u001b[0;34m:\u001b[0m\u001b[0;34m]\u001b[0m\u001b[0;34m[\u001b[0m\u001b[0;34m:\u001b[0m\u001b[0;36m2\u001b[0m\u001b[0;34m]\u001b[0m\u001b[0;34m)\u001b[0m\u001b[0;34m\u001b[0m\u001b[0;34m\u001b[0m\u001b[0m\n",
      "\u001b[0;31mTypeError\u001b[0m: submatrix() missing 4 required positional arguments: 'matrix', 'startRow', 'startCol', and 'size'"
     ]
    }
   ],
   "source": [
    "a = np.array([[1, 0, 5], [2, 3, 7], [7, 4, 2]])\n",
    "print(submatrix())\n",
    "print(a[:][:2])"
   ]
  },
  {
   "cell_type": "code",
   "execution_count": null,
   "metadata": {},
   "outputs": [],
   "source": []
  }
 ],
 "metadata": {
  "kernelspec": {
   "display_name": "Python 3",
   "language": "python",
   "name": "python3"
  }
 },
 "nbformat": 4,
 "nbformat_minor": 4
}
